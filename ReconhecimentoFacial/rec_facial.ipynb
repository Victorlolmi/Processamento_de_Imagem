{
 "cells": [
  {
   "cell_type": "code",
   "execution_count": 1,
   "metadata": {},
   "outputs": [],
   "source": [
    "# Verifica se a pasta ja existe no projeto, caso não, a cria\n",
    "\n",
    "import os\n",
    "\n",
    "folder_name = \"Leon\"\n",
    "if os.path.isdir(folder_name) == False:\n",
    "    os.mkdir(folder_name)"
   ]
  },
  {
   "cell_type": "code",
   "execution_count": null,
   "metadata": {},
   "outputs": [],
   "source": [
    "import dlib \n",
    "\n",
    "shape_predictor_filename = \"shape_predictor_68_face_landmarks.dat\"\n",
    "\n",
    "detector = dlib.get_frontal_face_detector()\n",
    "predictor = dlib.shape_predictor(shape_predictor_filename)"
   ]
  },
  {
   "cell_type": "code",
   "execution_count": null,
   "metadata": {},
   "outputs": [],
   "source": [
    "import cv2\n",
    "from matplotlib import pyplot as plt\n",
    "\n",
    "def generateFolderWithFaces(folderName, videoFilename, thresholdFaces = 6, stepFrame = 10):\n",
    "    detectedFacesCounter = 0\n",
    "    faces = []\n",
    "    frameCounter = 0\n",
    "\n",
    "    #carrega vídeo\n",
    "    videoCapture = cv2.VideoCapture(videoFilename)\n",
    "    while 1:\n",
    "        #contabiliza frames\n",
    "        frameCounter += 1\n",
    "        \n",
    "        #pega o próximo frame\n",
    "        success, frame = videoCapture.read()\n",
    "        \n",
    "        #acabou o vídeo ou detectou o limite de faces?\n",
    "        if success == False or detectedFacesCounter >= thresholdFaces:\n",
    "            return faces\n",
    "\n",
    "        #\"pula\" alguns frames\n",
    "        if frameCounter % stepFrame != 0:\n",
    "            continue\n",
    "\n",
    "        # detecta a face, o 1 indica superamostragem, pra achar faces mais facilmente\n",
    "        detections = detector(frame, 1)\n",
    "        for i, detection in enumerate(detections):\n",
    "            \n",
    "            #salvar região das faces em uma pasta\n",
    "            x, y = detection.left(), detection.top()\n",
    "            w, h = detection.right() - detection.left(), detection.bottom() - detection.top()\n",
    "            faceCrop = frame[y:y + h, x:x + w]\n",
    "            img_path = folderName + \"/\" + str(frameCounter) + \".jpg\"\n",
    "            cv2.imwrite(img_path, faceCrop)\n",
    "\n",
    "            #essa parte é só pra adicionar retângulo ao redor da face e marcações, pra exibir bonitinho depois\n",
    "            cv2.rectangle(frame, (x, y), (x + w, y + h), (255, 255, 0), 4)\n",
    "            landmarks = predictor(frame, detection)\n",
    "            for i in range(0, 68): \n",
    "                cv2.circle(frame, (landmarks.part(i).x , landmarks.part(i).y), 4, (0, 0, 255), -1)      \n",
    "            faces.append(frame)\n",
    "        \n",
    "        #total de faces detectadas até o momento\n",
    "        detectedFacesCounter += len(detections)\n",
    "        \n",
    "    videoCapture.release()"
   ]
  },
  {
   "cell_type": "code",
   "execution_count": null,
   "metadata": {},
   "outputs": [],
   "source": [
    "\n",
    "\n",
    "exempleFaces = generateFolderWithFaces(\"Leon/\",\"ReconhecimentoFacial\\download\\leon&nilce.mp4\" )"
   ]
  }
 ],
 "metadata": {
  "kernelspec": {
   "display_name": "Python 3",
   "language": "python",
   "name": "python3"
  },
  "language_info": {
   "codemirror_mode": {
    "name": "ipython",
    "version": 3
   },
   "file_extension": ".py",
   "mimetype": "text/x-python",
   "name": "python",
   "nbconvert_exporter": "python",
   "pygments_lexer": "ipython3",
   "version": "3.11.5"
  },
  "orig_nbformat": 4
 },
 "nbformat": 4,
 "nbformat_minor": 2
}
