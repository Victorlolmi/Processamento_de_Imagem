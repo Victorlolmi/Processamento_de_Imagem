{
 "cells": [
  {
   "cell_type": "markdown",
   "metadata": {},
   "source": [
    "# Criando Base de Dados da Camila (Peixe Babel)"
   ]
  },
  {
   "cell_type": "markdown",
   "metadata": {},
   "source": [
    "## 1. Baixar vídeo do YouTube"
   ]
  },
  {
   "cell_type": "code",
   "execution_count": 1,
   "metadata": {},
   "outputs": [],
   "source": [
    "import youtube_dl\n",
    "\n",
    "def download_youtube_video(youtube_url, video_filename):\n",
    "    youtube_url = youtube_url.strip() \n",
    "    ydl_opts = {'outtmpl': video_filename}\n",
    "\n",
    "    with youtube_dl.YoutubeDL(ydl_opts) as ydl:\n",
    "        ydl.download([youtube_url])"
   ]
  },
  {
   "cell_type": "code",
   "execution_count": 2,
   "metadata": {},
   "outputs": [
    {
     "name": "stdout",
     "output_type": "stream",
     "text": [
      "[youtube] plq6tFA6mMY: Downloading webpage\n",
      "[youtube] plq6tFA6mMY: Downloading MPD manifest\n"
     ]
    },
    {
     "name": "stderr",
     "output_type": "stream",
     "text": [
      "WARNING: Failed to download MPD manifest: <urlopen error [SSL: WRONG_VERSION_NUMBER] wrong version number (_ssl.c:1002)>\n",
      "ERROR: Unable to extract uploader id; please report this issue on https://yt-dl.org/bug . Make sure you are using the latest version; see  https://yt-dl.org/update  on how to update. Be sure to call youtube-dl with the --verbose flag and include its complete output.\n"
     ]
    },
    {
     "ename": "DownloadError",
     "evalue": "ERROR: Unable to extract uploader id; please report this issue on https://yt-dl.org/bug . Make sure you are using the latest version; see  https://yt-dl.org/update  on how to update. Be sure to call youtube-dl with the --verbose flag and include its complete output.",
     "output_type": "error",
     "traceback": [
      "\u001b[1;31m---------------------------------------------------------------------------\u001b[0m",
      "\u001b[1;31mRegexNotFoundError\u001b[0m                        Traceback (most recent call last)",
      "File \u001b[1;32mc:\\Users\\W10\\AppData\\Local\\Programs\\Python\\Python311\\Lib\\site-packages\\youtube_dl\\YoutubeDL.py:815\u001b[0m, in \u001b[0;36mYoutubeDL.__handle_extraction_exceptions.<locals>.wrapper\u001b[1;34m(self, *args, **kwargs)\u001b[0m\n\u001b[0;32m    814\u001b[0m \u001b[39mtry\u001b[39;00m:\n\u001b[1;32m--> 815\u001b[0m     \u001b[39mreturn\u001b[39;00m func(\u001b[39mself\u001b[39;49m, \u001b[39m*\u001b[39;49margs, \u001b[39m*\u001b[39;49m\u001b[39m*\u001b[39;49mkwargs)\n\u001b[0;32m    816\u001b[0m \u001b[39mexcept\u001b[39;00m GeoRestrictedError \u001b[39mas\u001b[39;00m e:\n",
      "File \u001b[1;32mc:\\Users\\W10\\AppData\\Local\\Programs\\Python\\Python311\\Lib\\site-packages\\youtube_dl\\YoutubeDL.py:836\u001b[0m, in \u001b[0;36mYoutubeDL.__extract_info\u001b[1;34m(self, url, ie, download, extra_info, process)\u001b[0m\n\u001b[0;32m    834\u001b[0m \u001b[39m@__handle_extraction_exceptions\u001b[39m\n\u001b[0;32m    835\u001b[0m \u001b[39mdef\u001b[39;00m \u001b[39m__extract_info\u001b[39m(\u001b[39mself\u001b[39m, url, ie, download, extra_info, process):\n\u001b[1;32m--> 836\u001b[0m     ie_result \u001b[39m=\u001b[39m ie\u001b[39m.\u001b[39;49mextract(url)\n\u001b[0;32m    837\u001b[0m     \u001b[39mif\u001b[39;00m ie_result \u001b[39mis\u001b[39;00m \u001b[39mNone\u001b[39;00m:  \u001b[39m# Finished already (backwards compatibility; listformats and friends should be moved here)\u001b[39;00m\n",
      "File \u001b[1;32mc:\\Users\\W10\\AppData\\Local\\Programs\\Python\\Python311\\Lib\\site-packages\\youtube_dl\\extractor\\common.py:534\u001b[0m, in \u001b[0;36mInfoExtractor.extract\u001b[1;34m(self, url)\u001b[0m\n\u001b[0;32m    533\u001b[0m \u001b[39mself\u001b[39m\u001b[39m.\u001b[39minitialize()\n\u001b[1;32m--> 534\u001b[0m ie_result \u001b[39m=\u001b[39m \u001b[39mself\u001b[39;49m\u001b[39m.\u001b[39;49m_real_extract(url)\n\u001b[0;32m    535\u001b[0m \u001b[39mif\u001b[39;00m \u001b[39mself\u001b[39m\u001b[39m.\u001b[39m_x_forwarded_for_ip:\n",
      "File \u001b[1;32mc:\\Users\\W10\\AppData\\Local\\Programs\\Python\\Python311\\Lib\\site-packages\\youtube_dl\\extractor\\youtube.py:1794\u001b[0m, in \u001b[0;36mYoutubeIE._real_extract\u001b[1;34m(self, url)\u001b[0m\n\u001b[0;32m   1782\u001b[0m owner_profile_url \u001b[39m=\u001b[39m microformat\u001b[39m.\u001b[39mget(\u001b[39m'\u001b[39m\u001b[39mownerProfileUrl\u001b[39m\u001b[39m'\u001b[39m)\n\u001b[0;32m   1784\u001b[0m info \u001b[39m=\u001b[39m {\n\u001b[0;32m   1785\u001b[0m     \u001b[39m'\u001b[39m\u001b[39mid\u001b[39m\u001b[39m'\u001b[39m: video_id,\n\u001b[0;32m   1786\u001b[0m     \u001b[39m'\u001b[39m\u001b[39mtitle\u001b[39m\u001b[39m'\u001b[39m: \u001b[39mself\u001b[39m\u001b[39m.\u001b[39m_live_title(video_title) \u001b[39mif\u001b[39;00m is_live \u001b[39melse\u001b[39;00m video_title,\n\u001b[0;32m   1787\u001b[0m     \u001b[39m'\u001b[39m\u001b[39mformats\u001b[39m\u001b[39m'\u001b[39m: formats,\n\u001b[0;32m   1788\u001b[0m     \u001b[39m'\u001b[39m\u001b[39mthumbnails\u001b[39m\u001b[39m'\u001b[39m: thumbnails,\n\u001b[0;32m   1789\u001b[0m     \u001b[39m'\u001b[39m\u001b[39mdescription\u001b[39m\u001b[39m'\u001b[39m: video_description,\n\u001b[0;32m   1790\u001b[0m     \u001b[39m'\u001b[39m\u001b[39mupload_date\u001b[39m\u001b[39m'\u001b[39m: unified_strdate(\n\u001b[0;32m   1791\u001b[0m         microformat\u001b[39m.\u001b[39mget(\u001b[39m'\u001b[39m\u001b[39muploadDate\u001b[39m\u001b[39m'\u001b[39m)\n\u001b[0;32m   1792\u001b[0m         \u001b[39mor\u001b[39;00m search_meta(\u001b[39m'\u001b[39m\u001b[39muploadDate\u001b[39m\u001b[39m'\u001b[39m)),\n\u001b[0;32m   1793\u001b[0m     \u001b[39m'\u001b[39m\u001b[39muploader\u001b[39m\u001b[39m'\u001b[39m: video_details[\u001b[39m'\u001b[39m\u001b[39mauthor\u001b[39m\u001b[39m'\u001b[39m],\n\u001b[1;32m-> 1794\u001b[0m     \u001b[39m'\u001b[39m\u001b[39muploader_id\u001b[39m\u001b[39m'\u001b[39m: \u001b[39mself\u001b[39;49m\u001b[39m.\u001b[39;49m_search_regex(\u001b[39mr\u001b[39;49m\u001b[39m'\u001b[39;49m\u001b[39m/(?:channel|user)/([^/?&#]+)\u001b[39;49m\u001b[39m'\u001b[39;49m, owner_profile_url, \u001b[39m'\u001b[39;49m\u001b[39muploader id\u001b[39;49m\u001b[39m'\u001b[39;49m) \u001b[39mif\u001b[39;00m owner_profile_url \u001b[39melse\u001b[39;00m \u001b[39mNone\u001b[39;00m,\n\u001b[0;32m   1795\u001b[0m     \u001b[39m'\u001b[39m\u001b[39muploader_url\u001b[39m\u001b[39m'\u001b[39m: owner_profile_url,\n\u001b[0;32m   1796\u001b[0m     \u001b[39m'\u001b[39m\u001b[39mchannel_id\u001b[39m\u001b[39m'\u001b[39m: channel_id,\n\u001b[0;32m   1797\u001b[0m     \u001b[39m'\u001b[39m\u001b[39mchannel_url\u001b[39m\u001b[39m'\u001b[39m: \u001b[39m'\u001b[39m\u001b[39mhttps://www.youtube.com/channel/\u001b[39m\u001b[39m'\u001b[39m \u001b[39m+\u001b[39m channel_id \u001b[39mif\u001b[39;00m channel_id \u001b[39melse\u001b[39;00m \u001b[39mNone\u001b[39;00m,\n\u001b[0;32m   1798\u001b[0m     \u001b[39m'\u001b[39m\u001b[39mduration\u001b[39m\u001b[39m'\u001b[39m: duration,\n\u001b[0;32m   1799\u001b[0m     \u001b[39m'\u001b[39m\u001b[39mview_count\u001b[39m\u001b[39m'\u001b[39m: int_or_none(\n\u001b[0;32m   1800\u001b[0m         video_details\u001b[39m.\u001b[39mget(\u001b[39m'\u001b[39m\u001b[39mviewCount\u001b[39m\u001b[39m'\u001b[39m)\n\u001b[0;32m   1801\u001b[0m         \u001b[39mor\u001b[39;00m microformat\u001b[39m.\u001b[39mget(\u001b[39m'\u001b[39m\u001b[39mviewCount\u001b[39m\u001b[39m'\u001b[39m)\n\u001b[0;32m   1802\u001b[0m         \u001b[39mor\u001b[39;00m search_meta(\u001b[39m'\u001b[39m\u001b[39minteractionCount\u001b[39m\u001b[39m'\u001b[39m)),\n\u001b[0;32m   1803\u001b[0m     \u001b[39m'\u001b[39m\u001b[39maverage_rating\u001b[39m\u001b[39m'\u001b[39m: float_or_none(video_details\u001b[39m.\u001b[39mget(\u001b[39m'\u001b[39m\u001b[39maverageRating\u001b[39m\u001b[39m'\u001b[39m)),\n\u001b[0;32m   1804\u001b[0m     \u001b[39m'\u001b[39m\u001b[39mage_limit\u001b[39m\u001b[39m'\u001b[39m: \u001b[39m18\u001b[39m \u001b[39mif\u001b[39;00m (\n\u001b[0;32m   1805\u001b[0m         microformat\u001b[39m.\u001b[39mget(\u001b[39m'\u001b[39m\u001b[39misFamilySafe\u001b[39m\u001b[39m'\u001b[39m) \u001b[39mis\u001b[39;00m \u001b[39mFalse\u001b[39;00m\n\u001b[0;32m   1806\u001b[0m         \u001b[39mor\u001b[39;00m search_meta(\u001b[39m'\u001b[39m\u001b[39misFamilyFriendly\u001b[39m\u001b[39m'\u001b[39m) \u001b[39m==\u001b[39m \u001b[39m'\u001b[39m\u001b[39mfalse\u001b[39m\u001b[39m'\u001b[39m\n\u001b[0;32m   1807\u001b[0m         \u001b[39mor\u001b[39;00m search_meta(\u001b[39m'\u001b[39m\u001b[39mog:restrictions:age\u001b[39m\u001b[39m'\u001b[39m) \u001b[39m==\u001b[39m \u001b[39m'\u001b[39m\u001b[39m18+\u001b[39m\u001b[39m'\u001b[39m) \u001b[39melse\u001b[39;00m \u001b[39m0\u001b[39m,\n\u001b[0;32m   1808\u001b[0m     \u001b[39m'\u001b[39m\u001b[39mwebpage_url\u001b[39m\u001b[39m'\u001b[39m: webpage_url,\n\u001b[0;32m   1809\u001b[0m     \u001b[39m'\u001b[39m\u001b[39mcategories\u001b[39m\u001b[39m'\u001b[39m: [category] \u001b[39mif\u001b[39;00m category \u001b[39melse\u001b[39;00m \u001b[39mNone\u001b[39;00m,\n\u001b[0;32m   1810\u001b[0m     \u001b[39m'\u001b[39m\u001b[39mtags\u001b[39m\u001b[39m'\u001b[39m: keywords,\n\u001b[0;32m   1811\u001b[0m     \u001b[39m'\u001b[39m\u001b[39mis_live\u001b[39m\u001b[39m'\u001b[39m: is_live,\n\u001b[0;32m   1812\u001b[0m }\n\u001b[0;32m   1814\u001b[0m pctr \u001b[39m=\u001b[39m try_get(\n\u001b[0;32m   1815\u001b[0m     player_response,\n\u001b[0;32m   1816\u001b[0m     \u001b[39mlambda\u001b[39;00m x: x[\u001b[39m'\u001b[39m\u001b[39mcaptions\u001b[39m\u001b[39m'\u001b[39m][\u001b[39m'\u001b[39m\u001b[39mplayerCaptionsTracklistRenderer\u001b[39m\u001b[39m'\u001b[39m], \u001b[39mdict\u001b[39m)\n",
      "File \u001b[1;32mc:\\Users\\W10\\AppData\\Local\\Programs\\Python\\Python311\\Lib\\site-packages\\youtube_dl\\extractor\\common.py:1012\u001b[0m, in \u001b[0;36mInfoExtractor._search_regex\u001b[1;34m(self, pattern, string, name, default, fatal, flags, group)\u001b[0m\n\u001b[0;32m   1011\u001b[0m \u001b[39melif\u001b[39;00m fatal:\n\u001b[1;32m-> 1012\u001b[0m     \u001b[39mraise\u001b[39;00m RegexNotFoundError(\u001b[39m'\u001b[39m\u001b[39mUnable to extract \u001b[39m\u001b[39m%s\u001b[39;00m\u001b[39m'\u001b[39m \u001b[39m%\u001b[39m _name)\n\u001b[0;32m   1013\u001b[0m \u001b[39melse\u001b[39;00m:\n",
      "\u001b[1;31mRegexNotFoundError\u001b[0m: Unable to extract uploader id; please report this issue on https://yt-dl.org/bug . Make sure you are using the latest version; see  https://yt-dl.org/update  on how to update. Be sure to call youtube-dl with the --verbose flag and include its complete output.",
      "\nDuring handling of the above exception, another exception occurred:\n",
      "\u001b[1;31mDownloadError\u001b[0m                             Traceback (most recent call last)",
      "\u001b[1;32md:\\Desktop\\Documents\\GitHub\\Processamento_de_Imagem\\ReconhecimentoFacial\\PyBr2020 - Reconhecimento de Faces.ipynb Cell 4\u001b[0m line \u001b[0;36m7\n\u001b[0;32m      <a href='vscode-notebook-cell:/d%3A/Desktop/Documents/GitHub/Processamento_de_Imagem/ReconhecimentoFacial/PyBr2020%20-%20Reconhecimento%20de%20Faces.ipynb#W3sZmlsZQ%3D%3D?line=3'>4</a>\u001b[0m video_filename \u001b[39m=\u001b[39m \u001b[39m\"\u001b[39m\u001b[39mcamila.mp4\u001b[39m\u001b[39m\"\u001b[39m\n\u001b[0;32m      <a href='vscode-notebook-cell:/d%3A/Desktop/Documents/GitHub/Processamento_de_Imagem/ReconhecimentoFacial/PyBr2020%20-%20Reconhecimento%20de%20Faces.ipynb#W3sZmlsZQ%3D%3D?line=5'>6</a>\u001b[0m \u001b[39mif\u001b[39;00m os\u001b[39m.\u001b[39mpath\u001b[39m.\u001b[39misfile(video_filename) \u001b[39m==\u001b[39m \u001b[39mFalse\u001b[39;00m:\n\u001b[1;32m----> <a href='vscode-notebook-cell:/d%3A/Desktop/Documents/GitHub/Processamento_de_Imagem/ReconhecimentoFacial/PyBr2020%20-%20Reconhecimento%20de%20Faces.ipynb#W3sZmlsZQ%3D%3D?line=6'>7</a>\u001b[0m     download_youtube_video(youtube_url, video_filename)\n",
      "\u001b[1;32md:\\Desktop\\Documents\\GitHub\\Processamento_de_Imagem\\ReconhecimentoFacial\\PyBr2020 - Reconhecimento de Faces.ipynb Cell 4\u001b[0m line \u001b[0;36m8\n\u001b[0;32m      <a href='vscode-notebook-cell:/d%3A/Desktop/Documents/GitHub/Processamento_de_Imagem/ReconhecimentoFacial/PyBr2020%20-%20Reconhecimento%20de%20Faces.ipynb#W3sZmlsZQ%3D%3D?line=4'>5</a>\u001b[0m ydl_opts \u001b[39m=\u001b[39m {\u001b[39m'\u001b[39m\u001b[39mouttmpl\u001b[39m\u001b[39m'\u001b[39m: video_filename}\n\u001b[0;32m      <a href='vscode-notebook-cell:/d%3A/Desktop/Documents/GitHub/Processamento_de_Imagem/ReconhecimentoFacial/PyBr2020%20-%20Reconhecimento%20de%20Faces.ipynb#W3sZmlsZQ%3D%3D?line=6'>7</a>\u001b[0m \u001b[39mwith\u001b[39;00m youtube_dl\u001b[39m.\u001b[39mYoutubeDL(ydl_opts) \u001b[39mas\u001b[39;00m ydl:\n\u001b[1;32m----> <a href='vscode-notebook-cell:/d%3A/Desktop/Documents/GitHub/Processamento_de_Imagem/ReconhecimentoFacial/PyBr2020%20-%20Reconhecimento%20de%20Faces.ipynb#W3sZmlsZQ%3D%3D?line=7'>8</a>\u001b[0m     ydl\u001b[39m.\u001b[39;49mdownload([youtube_url])\n",
      "File \u001b[1;32mc:\\Users\\W10\\AppData\\Local\\Programs\\Python\\Python311\\Lib\\site-packages\\youtube_dl\\YoutubeDL.py:2068\u001b[0m, in \u001b[0;36mYoutubeDL.download\u001b[1;34m(self, url_list)\u001b[0m\n\u001b[0;32m   2065\u001b[0m \u001b[39mfor\u001b[39;00m url \u001b[39min\u001b[39;00m url_list:\n\u001b[0;32m   2066\u001b[0m     \u001b[39mtry\u001b[39;00m:\n\u001b[0;32m   2067\u001b[0m         \u001b[39m# It also downloads the videos\u001b[39;00m\n\u001b[1;32m-> 2068\u001b[0m         res \u001b[39m=\u001b[39m \u001b[39mself\u001b[39;49m\u001b[39m.\u001b[39;49mextract_info(\n\u001b[0;32m   2069\u001b[0m             url, force_generic_extractor\u001b[39m=\u001b[39;49m\u001b[39mself\u001b[39;49m\u001b[39m.\u001b[39;49mparams\u001b[39m.\u001b[39;49mget(\u001b[39m'\u001b[39;49m\u001b[39mforce_generic_extractor\u001b[39;49m\u001b[39m'\u001b[39;49m, \u001b[39mFalse\u001b[39;49;00m))\n\u001b[0;32m   2070\u001b[0m     \u001b[39mexcept\u001b[39;00m UnavailableVideoError:\n\u001b[0;32m   2071\u001b[0m         \u001b[39mself\u001b[39m\u001b[39m.\u001b[39mreport_error(\u001b[39m'\u001b[39m\u001b[39munable to download video\u001b[39m\u001b[39m'\u001b[39m)\n",
      "File \u001b[1;32mc:\\Users\\W10\\AppData\\Local\\Programs\\Python\\Python311\\Lib\\site-packages\\youtube_dl\\YoutubeDL.py:808\u001b[0m, in \u001b[0;36mYoutubeDL.extract_info\u001b[1;34m(self, url, download, ie_key, extra_info, process, force_generic_extractor)\u001b[0m\n\u001b[0;32m    804\u001b[0m     \u001b[39mif\u001b[39;00m \u001b[39mnot\u001b[39;00m ie\u001b[39m.\u001b[39mworking():\n\u001b[0;32m    805\u001b[0m         \u001b[39mself\u001b[39m\u001b[39m.\u001b[39mreport_warning(\u001b[39m'\u001b[39m\u001b[39mThe program functionality for this site has been marked as broken, \u001b[39m\u001b[39m'\u001b[39m\n\u001b[0;32m    806\u001b[0m                             \u001b[39m'\u001b[39m\u001b[39mand will probably not work.\u001b[39m\u001b[39m'\u001b[39m)\n\u001b[1;32m--> 808\u001b[0m     \u001b[39mreturn\u001b[39;00m \u001b[39mself\u001b[39;49m\u001b[39m.\u001b[39;49m__extract_info(url, ie, download, extra_info, process)\n\u001b[0;32m    809\u001b[0m \u001b[39melse\u001b[39;00m:\n\u001b[0;32m    810\u001b[0m     \u001b[39mself\u001b[39m\u001b[39m.\u001b[39mreport_error(\u001b[39m'\u001b[39m\u001b[39mno suitable InfoExtractor for URL \u001b[39m\u001b[39m%s\u001b[39;00m\u001b[39m'\u001b[39m \u001b[39m%\u001b[39m url)\n",
      "File \u001b[1;32mc:\\Users\\W10\\AppData\\Local\\Programs\\Python\\Python311\\Lib\\site-packages\\youtube_dl\\YoutubeDL.py:824\u001b[0m, in \u001b[0;36mYoutubeDL.__handle_extraction_exceptions.<locals>.wrapper\u001b[1;34m(self, *args, **kwargs)\u001b[0m\n\u001b[0;32m    822\u001b[0m     \u001b[39mself\u001b[39m\u001b[39m.\u001b[39mreport_error(msg)\n\u001b[0;32m    823\u001b[0m \u001b[39mexcept\u001b[39;00m ExtractorError \u001b[39mas\u001b[39;00m e:  \u001b[39m# An error we somewhat expected\u001b[39;00m\n\u001b[1;32m--> 824\u001b[0m     \u001b[39mself\u001b[39;49m\u001b[39m.\u001b[39;49mreport_error(compat_str(e), e\u001b[39m.\u001b[39;49mformat_traceback())\n\u001b[0;32m    825\u001b[0m \u001b[39mexcept\u001b[39;00m MaxDownloadsReached:\n\u001b[0;32m    826\u001b[0m     \u001b[39mraise\u001b[39;00m\n",
      "File \u001b[1;32mc:\\Users\\W10\\AppData\\Local\\Programs\\Python\\Python311\\Lib\\site-packages\\youtube_dl\\YoutubeDL.py:628\u001b[0m, in \u001b[0;36mYoutubeDL.report_error\u001b[1;34m(self, message, tb)\u001b[0m\n\u001b[0;32m    626\u001b[0m     _msg_header \u001b[39m=\u001b[39m \u001b[39m'\u001b[39m\u001b[39mERROR:\u001b[39m\u001b[39m'\u001b[39m\n\u001b[0;32m    627\u001b[0m error_message \u001b[39m=\u001b[39m \u001b[39m'\u001b[39m\u001b[39m%s\u001b[39;00m\u001b[39m \u001b[39m\u001b[39m%s\u001b[39;00m\u001b[39m'\u001b[39m \u001b[39m%\u001b[39m (_msg_header, message)\n\u001b[1;32m--> 628\u001b[0m \u001b[39mself\u001b[39;49m\u001b[39m.\u001b[39;49mtrouble(error_message, tb)\n",
      "File \u001b[1;32mc:\\Users\\W10\\AppData\\Local\\Programs\\Python\\Python311\\Lib\\site-packages\\youtube_dl\\YoutubeDL.py:598\u001b[0m, in \u001b[0;36mYoutubeDL.trouble\u001b[1;34m(self, message, tb)\u001b[0m\n\u001b[0;32m    596\u001b[0m     \u001b[39melse\u001b[39;00m:\n\u001b[0;32m    597\u001b[0m         exc_info \u001b[39m=\u001b[39m sys\u001b[39m.\u001b[39mexc_info()\n\u001b[1;32m--> 598\u001b[0m     \u001b[39mraise\u001b[39;00m DownloadError(message, exc_info)\n\u001b[0;32m    599\u001b[0m \u001b[39mself\u001b[39m\u001b[39m.\u001b[39m_download_retcode \u001b[39m=\u001b[39m \u001b[39m1\u001b[39m\n",
      "\u001b[1;31mDownloadError\u001b[0m: ERROR: Unable to extract uploader id; please report this issue on https://yt-dl.org/bug . Make sure you are using the latest version; see  https://yt-dl.org/update  on how to update. Be sure to call youtube-dl with the --verbose flag and include its complete output."
     ]
    }
   ],
   "source": [
    "import os.path\n",
    "\n",
    "youtube_url = \"https://www.youtube.com/watch?v=plq6tFA6mMY\"\n",
    "video_filename = \"camila.mp4\"\n",
    "\n",
    "if os.path.isfile(video_filename) == False:\n",
    "    download_youtube_video(youtube_url, video_filename)"
   ]
  },
  {
   "cell_type": "markdown",
   "metadata": {},
   "source": [
    "## 2. Criar Pasta Contendo Faces para Treino"
   ]
  },
  {
   "cell_type": "markdown",
   "metadata": {},
   "source": [
    "### 2.1 Treinar Face da Camila (Peixe Babel)"
   ]
  },
  {
   "cell_type": "code",
   "execution_count": null,
   "metadata": {},
   "outputs": [
    {
     "ename": "",
     "evalue": "",
     "output_type": "error",
     "traceback": [
      "\u001b[1;31mRunning cells with 'c:\\Users\\W10\\AppData\\Local\\Microsoft\\WindowsApps\\python3.9.exe' requires the ipykernel package.\n",
      "\u001b[1;31mRun the following command to install 'ipykernel' into the Python environment. \n",
      "\u001b[1;31mCommand: 'c:/Users/W10/AppData/Local/Microsoft/WindowsApps/python3.9.exe -m pip install ipykernel -U --user --force-reinstall'"
     ]
    }
   ],
   "source": [
    "import os\n",
    "\n",
    "folder_name = \"Camila\"\n",
    "if os.path.isdir(folder_name) == False:\n",
    "    os.mkdir(folder_name)"
   ]
  },
  {
   "cell_type": "code",
   "execution_count": null,
   "metadata": {},
   "outputs": [
    {
     "ename": "",
     "evalue": "",
     "output_type": "error",
     "traceback": [
      "\u001b[1;31mRunning cells with 'c:\\Users\\W10\\AppData\\Local\\Microsoft\\WindowsApps\\python3.9.exe' requires the ipykernel package.\n",
      "\u001b[1;31mRun the following command to install 'ipykernel' into the Python environment. \n",
      "\u001b[1;31mCommand: 'c:/Users/W10/AppData/Local/Microsoft/WindowsApps/python3.9.exe -m pip install ipykernel -U --user --force-reinstall'"
     ]
    }
   ],
   "source": [
    "import dlib\n",
    "\n",
    "shape_predictor_filename = \"shape_predictor_68_face_landmarks.dat\"\n",
    "\n",
    "detector = dlib.get_frontal_face_detector()\n",
    "predictor = dlib.shape_predictor(shape_predictor_filename)"
   ]
  },
  {
   "cell_type": "code",
   "execution_count": null,
   "metadata": {
    "scrolled": true
   },
   "outputs": [
    {
     "ename": "",
     "evalue": "",
     "output_type": "error",
     "traceback": [
      "\u001b[1;31mRunning cells with 'c:\\Users\\W10\\AppData\\Local\\Microsoft\\WindowsApps\\python3.9.exe' requires the ipykernel package.\n",
      "\u001b[1;31mRun the following command to install 'ipykernel' into the Python environment. \n",
      "\u001b[1;31mCommand: 'c:/Users/W10/AppData/Local/Microsoft/WindowsApps/python3.9.exe -m pip install ipykernel -U --user --force-reinstall'"
     ]
    }
   ],
   "source": [
    "import cv2\n",
    "from matplotlib import pyplot as plt\n",
    "\n",
    "def generateFolderWithFaces(folderName, videoFilename, thresholdFaces = 6, stepFrame = 10):\n",
    "    detectedFacesCounter = 0\n",
    "    faces = []\n",
    "    frameCounter = 0\n",
    "\n",
    "    #carrega vídeo\n",
    "    videoCapture = cv2.VideoCapture(videoFilename)\n",
    "    while 1:\n",
    "        #contabiliza frames\n",
    "        frameCounter += 1\n",
    "        \n",
    "        #pega o próximo frame\n",
    "        success, frame = videoCapture.read()\n",
    "        \n",
    "        #acabou o vídeo ou detectou o limite de faces?\n",
    "        if success == False or detectedFacesCounter >= thresholdFaces:\n",
    "            return faces\n",
    "\n",
    "        #\"pula\" alguns frames\n",
    "        if frameCounter % stepFrame != 0:\n",
    "            continue\n",
    "\n",
    "        # detecta a face, o 1 indica superamostragem, pra achar faces mais facilmente\n",
    "        detections = detector(frame, 1)\n",
    "        for i, detection in enumerate(detections):\n",
    "            \n",
    "            #salvar região das faces em uma pasta\n",
    "            x, y = detection.left(), detection.top()\n",
    "            w, h = detection.right() - detection.left(), detection.bottom() - detection.top()\n",
    "            faceCrop = frame[y:y + h, x:x + w]\n",
    "            img_path = folderName + \"/\" + str(frameCounter) + \".jpg\"\n",
    "            cv2.imwrite(img_path, faceCrop)\n",
    "\n",
    "            #essa parte é só pra adicionar retângulo ao redor da face e marcações, pra exibir bonitinho depois\n",
    "            cv2.rectangle(frame, (x, y), (x + w, y + h), (255, 255, 0), 4)\n",
    "            landmarks = predictor(frame, detection)\n",
    "            for i in range(0, 68): \n",
    "                cv2.circle(frame, (landmarks.part(i).x , landmarks.part(i).y), 4, (0, 0, 255), -1)      \n",
    "            faces.append(frame)\n",
    "        \n",
    "        #total de faces detectadas até o momento\n",
    "        detectedFacesCounter += len(detections)\n",
    "        \n",
    "    videoCapture.release()"
   ]
  },
  {
   "cell_type": "code",
   "execution_count": null,
   "metadata": {},
   "outputs": [
    {
     "ename": "",
     "evalue": "",
     "output_type": "error",
     "traceback": [
      "\u001b[1;31mRunning cells with 'c:\\Users\\W10\\AppData\\Local\\Microsoft\\WindowsApps\\python3.9.exe' requires the ipykernel package.\n",
      "\u001b[1;31mRun the following command to install 'ipykernel' into the Python environment. \n",
      "\u001b[1;31mCommand: 'c:/Users/W10/AppData/Local/Microsoft/WindowsApps/python3.9.exe -m pip install ipykernel -U --user --force-reinstall'"
     ]
    }
   ],
   "source": [
    "exampleFaces = generateFolderWithFaces(\"Camila/\", \"camila.mp4\")"
   ]
  },
  {
   "cell_type": "code",
   "execution_count": null,
   "metadata": {},
   "outputs": [
    {
     "ename": "",
     "evalue": "",
     "output_type": "error",
     "traceback": [
      "\u001b[1;31mRunning cells with 'c:\\Users\\W10\\AppData\\Local\\Microsoft\\WindowsApps\\python3.9.exe' requires the ipykernel package.\n",
      "\u001b[1;31mRun the following command to install 'ipykernel' into the Python environment. \n",
      "\u001b[1;31mCommand: 'c:/Users/W10/AppData/Local/Microsoft/WindowsApps/python3.9.exe -m pip install ipykernel -U --user --force-reinstall'"
     ]
    }
   ],
   "source": [
    "#mostra algumas faces detectadas de exemplo\n",
    "fig, axes = plt.subplots(nrows = 2, ncols = 2, figsize=(16, 16))\n",
    "i = 0\n",
    "for y in range(0, 2):\n",
    "    for x in range(0, 2):\n",
    "        axes[x, y].set_title('Face ' + str(i), fontsize = 14)\n",
    "        exampleFaces[i] = cv2.cvtColor(exampleFaces[i], cv2.COLOR_BGR2RGB)\n",
    "        axes[x, y].imshow(exampleFaces[i])\n",
    "        i += 1"
   ]
  },
  {
   "cell_type": "markdown",
   "metadata": {},
   "source": [
    "# 2.2 Treinar uma Segunda Pessoa (Vivi)"
   ]
  },
  {
   "cell_type": "code",
   "execution_count": null,
   "metadata": {},
   "outputs": [
    {
     "ename": "",
     "evalue": "",
     "output_type": "error",
     "traceback": [
      "\u001b[1;31mRunning cells with 'c:\\Users\\W10\\AppData\\Local\\Microsoft\\WindowsApps\\python3.9.exe' requires the ipykernel package.\n",
      "\u001b[1;31mRun the following command to install 'ipykernel' into the Python environment. \n",
      "\u001b[1;31mCommand: 'c:/Users/W10/AppData/Local/Microsoft/WindowsApps/python3.9.exe -m pip install ipykernel -U --user --force-reinstall'"
     ]
    }
   ],
   "source": [
    "folder_name = \"Vivi\"\n",
    "if os.path.isdir(folder_name) == False:\n",
    "    os.mkdir(folder_name)"
   ]
  },
  {
   "cell_type": "code",
   "execution_count": null,
   "metadata": {},
   "outputs": [
    {
     "ename": "",
     "evalue": "",
     "output_type": "error",
     "traceback": [
      "\u001b[1;31mRunning cells with 'c:\\Users\\W10\\AppData\\Local\\Microsoft\\WindowsApps\\python3.9.exe' requires the ipykernel package.\n",
      "\u001b[1;31mRun the following command to install 'ipykernel' into the Python environment. \n",
      "\u001b[1;31mCommand: 'c:/Users/W10/AppData/Local/Microsoft/WindowsApps/python3.9.exe -m pip install ipykernel -U --user --force-reinstall'"
     ]
    }
   ],
   "source": [
    "import os.path\n",
    "\n",
    "youtube_url = \"https://www.youtube.com/watch?v=d9hM6ZQ_VvE\"\n",
    "video_filename = \"vivi.mp4\"\n",
    "\n",
    "if os.path.isfile(video_filename) == False:\n",
    "    download_youtube_video(youtube_url, video_filename)"
   ]
  },
  {
   "cell_type": "code",
   "execution_count": null,
   "metadata": {},
   "outputs": [
    {
     "ename": "",
     "evalue": "",
     "output_type": "error",
     "traceback": [
      "\u001b[1;31mRunning cells with 'c:\\Users\\W10\\AppData\\Local\\Microsoft\\WindowsApps\\python3.9.exe' requires the ipykernel package.\n",
      "\u001b[1;31mRun the following command to install 'ipykernel' into the Python environment. \n",
      "\u001b[1;31mCommand: 'c:/Users/W10/AppData/Local/Microsoft/WindowsApps/python3.9.exe -m pip install ipykernel -U --user --force-reinstall'"
     ]
    }
   ],
   "source": [
    "exampleFaces = generateFolderWithFaces(\"Vivi/\", \"vivi.mp4\")"
   ]
  },
  {
   "cell_type": "code",
   "execution_count": null,
   "metadata": {},
   "outputs": [
    {
     "ename": "",
     "evalue": "",
     "output_type": "error",
     "traceback": [
      "\u001b[1;31mRunning cells with 'c:\\Users\\W10\\AppData\\Local\\Microsoft\\WindowsApps\\python3.9.exe' requires the ipykernel package.\n",
      "\u001b[1;31mRun the following command to install 'ipykernel' into the Python environment. \n",
      "\u001b[1;31mCommand: 'c:/Users/W10/AppData/Local/Microsoft/WindowsApps/python3.9.exe -m pip install ipykernel -U --user --force-reinstall'"
     ]
    }
   ],
   "source": [
    "#mostra algumas faces detectadas de exemplo\n",
    "fig, axes = plt.subplots(nrows = 2, ncols = 2, figsize=(16, 16))\n",
    "i = 0\n",
    "for y in range(0, 2):\n",
    "    for x in range(0, 2):\n",
    "        axes[x, y].set_title('Face ' + str(i), fontsize = 14)\n",
    "        exampleFaces[i] = cv2.cvtColor(exampleFaces[i], cv2.COLOR_BGR2RGB)\n",
    "        axes[x, y].imshow(exampleFaces[i])\n",
    "        i += 1"
   ]
  },
  {
   "cell_type": "markdown",
   "metadata": {},
   "source": [
    "# 3. Treino de Modelo de Faces da Camila e da Vivi"
   ]
  },
  {
   "cell_type": "code",
   "execution_count": null,
   "metadata": {},
   "outputs": [
    {
     "ename": "",
     "evalue": "",
     "output_type": "error",
     "traceback": [
      "\u001b[1;31mRunning cells with 'c:\\Users\\W10\\AppData\\Local\\Microsoft\\WindowsApps\\python3.9.exe' requires the ipykernel package.\n",
      "\u001b[1;31mRun the following command to install 'ipykernel' into the Python environment. \n",
      "\u001b[1;31mCommand: 'c:/Users/W10/AppData/Local/Microsoft/WindowsApps/python3.9.exe -m pip install ipykernel -U --user --force-reinstall'"
     ]
    }
   ],
   "source": [
    "import face_recognition\n",
    "import pickle\n",
    "\n",
    "def generateEncodings(folderName, labelName, knownEncodings, knownNames):\n",
    "    for filename in os.listdir(folderName):\n",
    "        img = face_recognition.load_image_file(folderName + filename)\n",
    "        boxes = face_recognition.face_locations(img, model = 'cnn')\n",
    "        encodings = face_recognition.face_encodings(img, boxes)\n",
    "\n",
    "        for encoding in encodings:\n",
    "            knownEncodings.append(encoding)\n",
    "            knownNames.append(labelName)"
   ]
  },
  {
   "cell_type": "code",
   "execution_count": null,
   "metadata": {},
   "outputs": [
    {
     "ename": "",
     "evalue": "",
     "output_type": "error",
     "traceback": [
      "\u001b[1;31mRunning cells with 'c:\\Users\\W10\\AppData\\Local\\Microsoft\\WindowsApps\\python3.9.exe' requires the ipykernel package.\n",
      "\u001b[1;31mRun the following command to install 'ipykernel' into the Python environment. \n",
      "\u001b[1;31mCommand: 'c:/Users/W10/AppData/Local/Microsoft/WindowsApps/python3.9.exe -m pip install ipykernel -U --user --force-reinstall'"
     ]
    }
   ],
   "source": [
    "knownEncodings = []\n",
    "knownNames = []\n",
    "\n",
    "folderName = \"Camila/\"\n",
    "labelName = \"Camila\"\n",
    "generateEncodings(folderName, labelName, knownEncodings, knownNames)\n",
    "       \n",
    "folderName = \"Vivi/\"\n",
    "labelName = \"Vivi\"\n",
    "generateEncodings(folderName, labelName, knownEncodings, knownNames)\n",
    "\n",
    "data_encoding = {\"encodings\": knownEncodings, \"names\": knownNames}\n",
    "\n",
    "f = open(\"face_encodings\", \"wb\")\n",
    "f.write(pickle.dumps(data_encoding))\n",
    "f.close()"
   ]
  },
  {
   "cell_type": "markdown",
   "metadata": {},
   "source": [
    "# 4. Gerar Vídeo Reconhecendo Faces"
   ]
  },
  {
   "cell_type": "code",
   "execution_count": null,
   "metadata": {},
   "outputs": [
    {
     "ename": "",
     "evalue": "",
     "output_type": "error",
     "traceback": [
      "\u001b[1;31mRunning cells with 'c:\\Users\\W10\\AppData\\Local\\Microsoft\\WindowsApps\\python3.9.exe' requires the ipykernel package.\n",
      "\u001b[1;31mRun the following command to install 'ipykernel' into the Python environment. \n",
      "\u001b[1;31mCommand: 'c:/Users/W10/AppData/Local/Microsoft/WindowsApps/python3.9.exe -m pip install ipykernel -U --user --force-reinstall'"
     ]
    }
   ],
   "source": [
    "import os.path\n",
    "\n",
    "youtube_url = \"https://www.youtube.com/watch?v=kflEcWii_Ug\"\n",
    "video_filename = \"teste_mila_e_vivi.mp4\"\n",
    "\n",
    "if os.path.isfile(video_filename) == False:\n",
    "    download_youtube_video(youtube_url, video_filename)"
   ]
  },
  {
   "cell_type": "code",
   "execution_count": null,
   "metadata": {},
   "outputs": [
    {
     "ename": "",
     "evalue": "",
     "output_type": "error",
     "traceback": [
      "\u001b[1;31mRunning cells with 'c:\\Users\\W10\\AppData\\Local\\Microsoft\\WindowsApps\\python3.9.exe' requires the ipykernel package.\n",
      "\u001b[1;31mRun the following command to install 'ipykernel' into the Python environment. \n",
      "\u001b[1;31mCommand: 'c:/Users/W10/AppData/Local/Microsoft/WindowsApps/python3.9.exe -m pip install ipykernel -U --user --force-reinstall'"
     ]
    }
   ],
   "source": [
    "from tqdm import tqdm\n",
    "\n",
    "#carrega arquivo binário contendo faces codificadas\n",
    "data_encoding = pickle.loads(open(\"face_encodings\", \"rb\").read())\n",
    "\n",
    "#carrega vídeo do disco\n",
    "videoCaptureInput = cv2.VideoCapture(video_filename)\n",
    "\n",
    "#set contendo as possíveis pessoas reconhecidas\n",
    "unique_names = set(data_encoding[\"names\"])\n",
    "\n",
    "#gerador de vídeo contendo saída com faces reconhecidas\n",
    "fourcc = cv2.VideoWriter_fourcc('X', 'V', 'I', 'D')\n",
    "fps = videoCaptureInput.get(cv2.CAP_PROP_FPS)\n",
    "videoCaptureOutput = cv2.VideoWriter(\"output.mp4\", fourcc, fps, (1920, 1080))\n",
    "\n",
    "#gera reconhecimento em vídeo para os 200 primeiros frames\n",
    "for i in tqdm(range(0, 200)):\n",
    "    \n",
    "    #para cada frame\n",
    "    success, frame = videoCaptureInput.read()\n",
    "        \n",
    "    #acabou o vídeo?\n",
    "    if success == False:\n",
    "        break\n",
    "        \n",
    "    #converte frame de formato BGR (OpenCV) para RGB (face_recognition)\n",
    "    frame = cv2.cvtColor(frame, cv2.COLOR_BGR2RGB)\n",
    "    \n",
    "    boxes = face_recognition.face_locations(frame, model = 'cnn')\n",
    "    encodings = face_recognition.face_encodings(frame, boxes)\n",
    "    \n",
    "    names = []\n",
    "\n",
    "    #para cada codificação de faces encontrada\n",
    "    for encoding in encodings:\n",
    "        matches = face_recognition.compare_faces(data_encoding[\"encodings\"], encoding)\n",
    "        \n",
    "        #retorna o identificador da lista das faces da base que \"batem\" com a codificação verificada\n",
    "        matchesId = [i for i, value in enumerate(matches) if value == True]\n",
    "        \n",
    "        #faz uma espécie de \"votação\": quem tiver mais codificações \"próximas\" das faces treinadas na base \"ganha\"\n",
    "        counts = {}\n",
    "        for name in unique_names:\n",
    "            counts[name] = 0  \n",
    "        for i in matchesId:\n",
    "            name = data_encoding[\"names\"][i]\n",
    "            counts[name] += 1\n",
    "        name = max(counts, key = counts.get)\n",
    "        names.append(name)\n",
    "\n",
    "    #desenha o retângulo e escreve o nome da pessoa no frame\n",
    "    for ((top, right, bottom, left), name) in zip(boxes, names):\n",
    "        cv2.rectangle(frame, (left, top), (right, bottom), (0, 255, 0), 4)\n",
    "        cv2.putText(frame, name, (left, top), cv2.FONT_HERSHEY_SIMPLEX, 4, (0, 255, 0), 4)\n",
    "    \n",
    "    #converte o frame de volta pro formato do OpenCV (BGR)\n",
    "    frame = cv2.cvtColor(frame, cv2.COLOR_RGB2BGR)\n",
    "    \n",
    "    #escreve o frame no arquivo de vídeo\n",
    "    videoCaptureOutput.write(frame)\n",
    "\n",
    "videoCaptureInput.release()\n",
    "videoCaptureOutput.release()"
   ]
  },
  {
   "cell_type": "code",
   "execution_count": null,
   "metadata": {},
   "outputs": [
    {
     "ename": "",
     "evalue": "",
     "output_type": "error",
     "traceback": [
      "\u001b[1;31mRunning cells with 'c:\\Users\\W10\\AppData\\Local\\Microsoft\\WindowsApps\\python3.9.exe' requires the ipykernel package.\n",
      "\u001b[1;31mRun the following command to install 'ipykernel' into the Python environment. \n",
      "\u001b[1;31mCommand: 'c:/Users/W10/AppData/Local/Microsoft/WindowsApps/python3.9.exe -m pip install ipykernel -U --user --force-reinstall'"
     ]
    }
   ],
   "source": [
    "import subprocess\n",
    "\n",
    "subprocess.call(['ffmpeg', '-y', '-i', 'output.mp4', '-vf', 'fps=10,scale=640:-1:flags=lanczos,split[s0][s1];[s0]palettegen[p];[s1][p]paletteuse', '-loop', '1', 'output.gif'])"
   ]
  },
  {
   "cell_type": "markdown",
   "metadata": {},
   "source": [
    "<img src=\"output.gif\" align=\"center\">"
   ]
  },
  {
   "cell_type": "code",
   "execution_count": null,
   "metadata": {},
   "outputs": [
    {
     "ename": "",
     "evalue": "",
     "output_type": "error",
     "traceback": [
      "\u001b[1;31mRunning cells with 'c:\\Users\\W10\\AppData\\Local\\Microsoft\\WindowsApps\\python3.9.exe' requires the ipykernel package.\n",
      "\u001b[1;31mRun the following command to install 'ipykernel' into the Python environment. \n",
      "\u001b[1;31mCommand: 'c:/Users/W10/AppData/Local/Microsoft/WindowsApps/python3.9.exe -m pip install ipykernel -U --user --force-reinstall'"
     ]
    }
   ],
   "source": []
  }
 ],
 "metadata": {
  "kernelspec": {
   "display_name": "Python 3",
   "language": "python",
   "name": "python3"
  },
  "language_info": {
   "codemirror_mode": {
    "name": "ipython",
    "version": 3
   },
   "file_extension": ".py",
   "mimetype": "text/x-python",
   "name": "python",
   "nbconvert_exporter": "python",
   "pygments_lexer": "ipython3",
   "version": "3.11.5"
  }
 },
 "nbformat": 4,
 "nbformat_minor": 4
}
