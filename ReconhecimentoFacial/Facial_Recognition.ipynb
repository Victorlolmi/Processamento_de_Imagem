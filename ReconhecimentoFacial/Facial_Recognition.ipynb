{
 "cells": [
  {
   "cell_type": "markdown",
   "metadata": {},
   "source": [
    "<h1>Reconhecimento Facial com DeepFace\n"
   ]
  },
  {
   "cell_type": "markdown",
   "metadata": {},
   "source": [
    "<h3> 1.1 - Carregar vídeo"
   ]
  },
  {
   "cell_type": "code",
   "execution_count": null,
   "metadata": {},
   "outputs": [],
   "source": [
    "\n",
    "import cv2\n",
    "\n",
    "# Carregue o vídeo do disco\n",
    "video_filename = \"ReconhecimentoFacial/download/leon&nilce_curto.mp4\"\n",
    "video_capture_input = cv2.VideoCapture(video_filename)"
   ]
  },
  {
   "cell_type": "markdown",
   "metadata": {},
   "source": [
    "<h3> 1.2 - Criar vídeo de saída"
   ]
  },
  {
   "cell_type": "code",
   "execution_count": null,
   "metadata": {},
   "outputs": [],
   "source": [
    "import imageio\n",
    "\n",
    "\n",
    "# Defina o arquivo de vídeo de saída\n",
    "fps = int(video_capture_input.get(cv2.CAP_PROP_FPS))\n",
    "video_capture_output = imageio.get_writer(\"output.mp4\", fps = fps)"
   ]
  },
  {
   "cell_type": "markdown",
   "metadata": {},
   "source": [
    "<h3>1.3 - Dê os caminhos para as imagens de referência"
   ]
  },
  {
   "cell_type": "code",
   "execution_count": null,
   "metadata": {},
   "outputs": [],
   "source": [
    "# Imagem do Leon\n",
    "target_image_leon = \"ReconhecimentoFacial\\Past_Leon\\img1.jpg\"\n",
    "# Imagem da Nilce\n",
    "target_image_nilce= \"ReconhecimentoFacial\\Past_Nilce\\img1.jpg\""
   ]
  },
  {
   "cell_type": "markdown",
   "metadata": {},
   "source": [
    "<h1>Utilização do DeepFace:"
   ]
  },
  {
   "cell_type": "markdown",
   "metadata": {},
   "source": [
    "<h3> 2.1 - Gere o reconhecimento em vídeo para todos os frames "
   ]
  },
  {
   "cell_type": "code",
   "execution_count": null,
   "metadata": {},
   "outputs": [],
   "source": [
    "\n",
    "from deepface import DeepFace\n",
    "\n",
    "frame_counter = 0\n",
    "\n",
    "while True:\n",
    "    # Para cada frame\n",
    "    success, frame = video_capture_input.read()\n",
    "\n",
    "\n",
    "    frame_counter += 1\n",
    "\n",
    "    print(frame_counter)\n",
    "    # Se o vídeo acabou, saia do loop\n",
    "    if not success:\n",
    "        break\n",
    "\n",
    "    frame = cv2.cvtColor(frame, cv2.COLOR_BGR2RGB)\n",
    "\n",
    "    '''\n",
    "    # \"Pula\" alguns frames\n",
    "    if frame_counter % 2 != 0:\n",
    "        continue\n",
    "    '''\n",
    "   \n",
    "    \n",
    "    # Detecte as faces do leon no frame \n",
    "    detected_face_leon = DeepFace.verify(frame, target_image_leon, \"VGG-Face\",enforce_detection=False)\n",
    "    #dimencoes do frame do Leon\n",
    "    (x_leon, y_leon, w_leon, h_leon) = (int(detected_face_leon['facial_areas']['img1']['x']), int(detected_face_leon['facial_areas']['img1']['y']), int(detected_face_leon['facial_areas']['img1']['w']), int(detected_face_leon['facial_areas']['img1']['h']))\n",
    "\n",
    "\n",
    "    # Detecte as faces da Nilce no frame \n",
    "    detected_face_nilce = DeepFace.verify(frame, target_image_nilce, \"VGG-Face\",enforce_detection=False)\n",
    "    #dimencoes do frame da Nilce\n",
    "    (x_nilce, y_nilce, w_nilce, h_nilce) = (int(detected_face_nilce['facial_areas']['img1']['x']), int(detected_face_nilce['facial_areas']['img1']['y']), int(detected_face_nilce['facial_areas']['img1']['w']), int(detected_face_nilce['facial_areas']['img1']['h']))\n",
    "\n",
    "    if detected_face_leon['verified'] == True and detected_face_leon['similarity_metric'] == \"cosine\":\n",
    "\n",
    "        recognized_name = \"Leon\"\n",
    "        print(\"Leon reconhecido\")\n",
    "\n",
    "        cv2.rectangle(frame, (x_leon, y_leon), (x_leon + w_leon, y_leon + h_leon), (0, 255, 0), 4)\n",
    "        cv2.putText(frame, recognized_name, (x_leon, y_leon - 10), cv2.FONT_HERSHEY_SIMPLEX, 1, (0, 255, 0), 2)\n",
    "\n",
    "        \n",
    "    if detected_face_nilce['verified'] == True and detected_face_nilce['similarity_metric'] == \"cosine\":\n",
    "\n",
    "        recognized_name = \"Nilce\"\n",
    "\n",
    "        if h_nilce >= 150 and h_nilce <=  250:\n",
    "\n",
    "            print(\"Nilce reconhecida\")\n",
    "            print(w_nilce,h_nilce)\n",
    "\n",
    "            cv2.rectangle(frame, (x_nilce, y_nilce), (x_nilce + w_nilce, y_nilce + h_nilce), (0, 255, 0), 4)\n",
    "            cv2.putText(frame, recognized_name, (x_nilce, y_nilce - 10), cv2.FONT_HERSHEY_SIMPLEX, 1, (0, 255, 0), 2)\n",
    "\n",
    "        \n",
    "    # Escreva o frame no arquivo de vídeo de saída\n",
    "    \n",
    "    video_capture_output.append_data(frame)\n",
    "\n",
    "    print(\"salvando\")\n",
    "    "
   ]
  },
  {
   "cell_type": "markdown",
   "metadata": {},
   "source": [
    "<h3>2.2 - Libere os objetos de captura e gravação de vídeo"
   ]
  },
  {
   "cell_type": "code",
   "execution_count": null,
   "metadata": {},
   "outputs": [],
   "source": [
    "\n",
    "video_capture_input.release()\n",
    "video_capture_output.close()"
   ]
  }
 ],
 "metadata": {
  "kernelspec": {
   "display_name": "Python 3",
   "language": "python",
   "name": "python3"
  },
  "language_info": {
   "codemirror_mode": {
    "name": "ipython",
    "version": 3
   },
   "file_extension": ".py",
   "mimetype": "text/x-python",
   "name": "python",
   "nbconvert_exporter": "python",
   "pygments_lexer": "ipython3",
   "version": "3.11.5"
  },
  "orig_nbformat": 4
 },
 "nbformat": 4,
 "nbformat_minor": 2
}
